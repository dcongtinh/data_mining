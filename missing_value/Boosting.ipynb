{
 "metadata": {
  "language_info": {
   "codemirror_mode": {
    "name": "ipython",
    "version": 3
   },
   "file_extension": ".py",
   "mimetype": "text/x-python",
   "name": "python",
   "nbconvert_exporter": "python",
   "pygments_lexer": "ipython3",
   "version": "3.6.8-final"
  },
  "orig_nbformat": 2,
  "kernelspec": {
   "name": "Python 3.6.8 64-bit",
   "display_name": "Python 3.6.8 64-bit",
   "metadata": {
    "interpreter": {
     "hash": "aee8b7b246df8f9039afb4144a1f6fd8d2ca17a180786b69acc140d282b71a49"
    }
   }
  }
 },
 "nbformat": 4,
 "nbformat_minor": 2,
 "cells": [
  {
   "cell_type": "code",
   "execution_count": 1,
   "metadata": {
    "tags": []
   },
   "outputs": [
    {
     "output_type": "stream",
     "name": "stdout",
     "text": "       Petal Length  Petal Width  Sepal Length  Sepal Width\ncount    150.000000   150.000000    150.000000   150.000000\nmean       5.843333     3.057333      3.758000     1.199333\nstd        0.828066     0.435866      1.765298     0.762238\nmin        4.300000     2.000000      1.000000     0.100000\n25%        5.100000     2.800000      1.600000     0.300000\n50%        5.800000     3.000000      4.350000     1.300000\n75%        6.400000     3.300000      5.100000     1.800000\nmax        7.900000     4.400000      6.900000     2.500000\n"
    }
   ],
   "source": [
    "# Nạp các gói thư viện cần thiết\n",
    "import pandas as pd\n",
    "from sklearn import tree\n",
    "from sklearn.ensemble import AdaBoostClassifier \n",
    "import numpy as np\n",
    "# Đọc dữ liệu iris từ UCI (https://archive.ics.uci.edu/ml/datasets/Iris) \n",
    "# # hoặc từ thư viện scikit-learn\n",
    "# Tham khảo https://scikit-learn.org/stable/auto_examples/datasets/plot_iris_dataset.html\n",
    "from sklearn import datasets\n",
    "from sklearn.model_selection import train_test_split, cross_val_score\n",
    "iris = datasets.load_iris()\n",
    "columns=[\"Petal Length\",\"Petal Width\",\"Sepal Length\",\"Sepal Width\"]\n",
    "X = pd.DataFrame(iris.data, columns=columns)\n",
    "y = iris.target \n",
    "print(X.describe())\n",
    "# Sử dụng nghi thức kiểm tra hold-out\n",
    "# Chia dữ liệu ngẫu nhiên thành 2 tập dữ liệu con:\n",
    "# training set và test set theo tỷ lệ 70/30\n",
    "X_train, X_test, y_train, y_test = train_test_split(X, y, test_size=0.3)\n"
   ]
  },
  {
   "cell_type": "code",
   "execution_count": 2,
   "metadata": {
    "tags": []
   },
   "outputs": [
    {
     "output_type": "stream",
     "name": "stdout",
     "text": "Gia tri Mean Absolute Error: 0.067\nGia tri Mean Squared Error: 0.067\nGia tri Root Mean Squared Error: 0.258\n"
    }
   ],
   "source": [
    "# Xây dựng boosting của 50 cây quyết định, cây có độ sâu tối đa là 3\n",
    "model = AdaBoostClassifier(base_estimator=tree.DecisionTreeClassifier(max_depth=1), n_estimators=50)\n",
    "model.fit(X_train, y_train)\n",
    "# Dự đoán nhãn tập kiểm tra \n",
    "y_pred = model.predict(X_test)\n",
    "# Đánh giá mô hình bằng chỉ số RMSE (Root Mean Squared Error)\n",
    "# Tham khảo: https://en.wikipedia.org/wiki/Root-mean-square_deviation\n",
    "from sklearn.metrics import mean_absolute_error, mean_squared_error\n",
    "print('Gia tri Mean Absolute Error: %.3f' % mean_absolute_error(y_test, y_pred))\n",
    "print('Gia tri Mean Squared Error: %.3f' % mean_squared_error(y_test, y_pred))\n",
    "print('Gia tri Root Mean Squared Error: %.3f' % np.sqrt(mean_squared_error(y_test, y_pred)))"
   ]
  },
  {
   "cell_type": "code",
   "execution_count": 3,
   "metadata": {},
   "outputs": [],
   "source": [
    "def load_datasets(name):\n",
    "    if name == 'Iris':\n",
    "        data = datasets.load_iris()\n",
    "    elif name == 'Breast Cancer':\n",
    "        data = datasets.load_breast_cancer()\n",
    "    elif name == 'Wine':\n",
    "        data = datasets.load_wine()\n",
    "    elif name == 'Handwritten Digits':\n",
    "        data = datasets.load_digits()\n",
    "    df = pd.DataFrame(data.data)\n",
    "    y = data.target\n",
    "    return df, y"
   ]
  },
  {
   "cell_type": "code",
   "execution_count": 21,
   "metadata": {},
   "outputs": [],
   "source": [
    "s_MAE = s_MSE = s_RMSE = 0\n",
    "\n",
    "def scorer(model, X_test, y_test):\n",
    "    global s_MAE, s_MSE, s_RMSE\n",
    "    y_pred = model.predict(X_test)\n",
    "    MAE = mean_absolute_error(y_test, y_pred)\n",
    "    MSE = mean_squared_error(y_test, y_pred)\n",
    "    RMSE = np.sqrt(MSE)\n",
    "    s_MAE += MAE\n",
    "    s_MSE += MSE\n",
    "    s_RMSE += RMSE\n",
    "    return MAE + MSE + RMSE\n",
    "\n",
    "def score_dataset(dataset_name, model, X, y, cv=None):\n",
    "    global s_MAE, s_MSE, s_RMSE\n",
    "    if cv:\n",
    "        s_MAE = s_MSE = s_RMSE = 0\n",
    "        scores = cross_val_score(model, df, y, cv=cv, scoring=scorer)\n",
    "        print('MAE = %.3f' % (s_MAE/cv))\n",
    "        print('MSE = %.3f' % (s_MSE/cv))\n",
    "        print('RMSE = %.3f' % (s_RMSE/cv))\n",
    "    else:\n",
    "        for nFold in range(2, 10+1):\n",
    "            s_MAE = s_MSE = s_RMSE = 0\n",
    "            scores = cross_val_score(model, df, y, cv=nFold, scoring=scorer)\n",
    "            print('%s %2d-folds: MAE = %.3f, MSE = %.3f, RMSE = %.3f' % (dataset_name, nFold, s_MAE/nFold, s_MSE/nFold, s_RMSE/nFold))"
   ]
  },
  {
   "cell_type": "code",
   "execution_count": 22,
   "metadata": {
    "tags": []
   },
   "outputs": [
    {
     "output_type": "stream",
     "name": "stdout",
     "text": "Breast Cancer  2-folds: MAE = 0.042, MSE = 0.042, RMSE = 0.201\nBreast Cancer  3-folds: MAE = 0.042, MSE = 0.042, RMSE = 0.198\nBreast Cancer  4-folds: MAE = 0.033, MSE = 0.033, RMSE = 0.177\nBreast Cancer  5-folds: MAE = 0.030, MSE = 0.030, RMSE = 0.162\nBreast Cancer  6-folds: MAE = 0.035, MSE = 0.035, RMSE = 0.186\nBreast Cancer  7-folds: MAE = 0.035, MSE = 0.035, RMSE = 0.180\nBreast Cancer  8-folds: MAE = 0.032, MSE = 0.032, RMSE = 0.171\nBreast Cancer  9-folds: MAE = 0.039, MSE = 0.039, RMSE = 0.180\nBreast Cancer 10-folds: MAE = 0.039, MSE = 0.039, RMSE = 0.179\n"
    }
   ],
   "source": [
    "dataset_name = 'Breast Cancer'\n",
    "df, y = load_datasets(dataset_name)\n",
    "model = AdaBoostClassifier(base_estimator=tree.DecisionTreeClassifier(max_depth=1), n_estimators=50)\n",
    "score_dataset(dataset_name, model, df, y)"
   ]
  },
  {
   "cell_type": "code",
   "execution_count": 23,
   "metadata": {
    "tags": []
   },
   "outputs": [
    {
     "output_type": "stream",
     "name": "stdout",
     "text": "Wine  2-folds: MAE = 0.140, MSE = 0.152, RMSE = 0.389\nWine  3-folds: MAE = 0.157, MSE = 0.168, RMSE = 0.409\nWine  4-folds: MAE = 0.207, MSE = 0.241, RMSE = 0.468\nWine  5-folds: MAE = 0.203, MSE = 0.237, RMSE = 0.393\nWine  6-folds: MAE = 0.117, MSE = 0.117, RMSE = 0.300\nWine  7-folds: MAE = 0.167, MSE = 0.167, RMSE = 0.362\nWine  8-folds: MAE = 0.212, MSE = 0.246, RMSE = 0.416\nWine  9-folds: MAE = 0.156, MSE = 0.156, RMSE = 0.352\nWine 10-folds: MAE = 0.117, MSE = 0.117, RMSE = 0.250\n"
    }
   ],
   "source": [
    "dataset_name = 'Wine'\n",
    "df, y = load_datasets(dataset_name)\n",
    "model = AdaBoostClassifier(base_estimator=tree.DecisionTreeClassifier(max_depth=1), n_estimators=50)\n",
    "score_dataset(dataset_name, model, df, y)"
   ]
  },
  {
   "cell_type": "code",
   "execution_count": 24,
   "metadata": {
    "tags": []
   },
   "outputs": [
    {
     "output_type": "stream",
     "name": "stdout",
     "text": "Handwritten Digits  2-folds: MAE = 3.398, MSE = 20.189, RMSE = 4.479\nHandwritten Digits  3-folds: MAE = 2.561, MSE = 12.013, RMSE = 3.435\nHandwritten Digits  4-folds: MAE = 2.728, MSE = 13.583, RMSE = 3.655\nHandwritten Digits  5-folds: MAE = 2.856, MSE = 14.895, RMSE = 3.835\nHandwritten Digits  6-folds: MAE = 2.896, MSE = 15.198, RMSE = 3.869\nHandwritten Digits  7-folds: MAE = 2.532, MSE = 11.766, RMSE = 3.385\nHandwritten Digits  8-folds: MAE = 2.663, MSE = 13.164, RMSE = 3.585\nHandwritten Digits  9-folds: MAE = 2.680, MSE = 13.185, RMSE = 3.582\nHandwritten Digits 10-folds: MAE = 2.772, MSE = 14.070, RMSE = 3.701\n"
    }
   ],
   "source": [
    "dataset_name = 'Handwritten Digits'\n",
    "df, y = load_datasets(dataset_name)\n",
    "model = AdaBoostClassifier(base_estimator=tree.DecisionTreeClassifier(max_depth=1), n_estimators=50)\n",
    "score_dataset(dataset_name, model, df, y)"
   ]
  },
  {
   "cell_type": "code",
   "execution_count": null,
   "metadata": {},
   "outputs": [],
   "source": []
  }
 ]
}