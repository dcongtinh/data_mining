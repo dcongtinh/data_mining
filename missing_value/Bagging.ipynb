{
 "metadata": {
  "language_info": {
   "codemirror_mode": {
    "name": "ipython",
    "version": 3
   },
   "file_extension": ".py",
   "mimetype": "text/x-python",
   "name": "python",
   "nbconvert_exporter": "python",
   "pygments_lexer": "ipython3",
   "version": "3.6.8-final"
  },
  "orig_nbformat": 2,
  "kernelspec": {
   "name": "Python 3.6.8 64-bit",
   "display_name": "Python 3.6.8 64-bit",
   "metadata": {
    "interpreter": {
     "hash": "aee8b7b246df8f9039afb4144a1f6fd8d2ca17a180786b69acc140d282b71a49"
    }
   }
  }
 },
 "nbformat": 4,
 "nbformat_minor": 2,
 "cells": [
  {
   "cell_type": "code",
   "execution_count": 1,
   "metadata": {
    "tags": []
   },
   "outputs": [
    {
     "output_type": "stream",
     "name": "stdout",
     "text": "       Petal Length  Petal Width  Sepal Length  Sepal Width\ncount    150.000000   150.000000    150.000000   150.000000\nmean       5.843333     3.057333      3.758000     1.199333\nstd        0.828066     0.435866      1.765298     0.762238\nmin        4.300000     2.000000      1.000000     0.100000\n25%        5.100000     2.800000      1.600000     0.300000\n50%        5.800000     3.000000      4.350000     1.300000\n75%        6.400000     3.300000      5.100000     1.800000\nmax        7.900000     4.400000      6.900000     2.500000\n"
    }
   ],
   "source": [
    "# Nạp các gói thư viện cần thiết\n",
    "import pandas as pd\n",
    "from sklearn import tree\n",
    "from sklearn.ensemble import BaggingClassifier \n",
    "import numpy as np\n",
    "# Đọc dữ liệu iris từ UCI (https://archive.ics.uci.edu/ml/datasets/Iris) \n",
    "# # hoặc từ thư viện scikit-learn\n",
    "# Tham khảo https://scikit-learn.org/stable/auto_examples/datasets/plot_iris_dataset.html\n",
    "from sklearn import datasets\n",
    "from sklearn.model_selection import train_test_split\n",
    "iris = datasets.load_iris()\n",
    "columns=[\"Petal Length\", \"Petal Width\", \"Sepal Length\", \"Sepal Width\"]\n",
    "X = pd.DataFrame(iris.data, columns=columns)\n",
    "y = iris.target\n",
    "print(X.describe())\n",
    "# Sử dụng nghi thức kiểm tra hold-out\n",
    "# Chia dữ liệu ngẫu nhiên thành 2 tập dữ liệu con:\n",
    "# training set và test set theo tỷ lệ 70/30\n",
    "X_train, X_test, y_train, y_test = train_test_split(X, y, test_size=0.3) \n",
    "#print(X_train.shape, y_train.shape)\n",
    "#print(X_test.shape, y_test.shape)"
   ]
  },
  {
   "cell_type": "code",
   "execution_count": 2,
   "metadata": {
    "tags": []
   },
   "outputs": [
    {
     "output_type": "stream",
     "name": "stdout",
     "text": "Do chinh xác cua mo hinh voi nghi thuc kiem tra hold-out: 0.933\n"
    }
   ],
   "source": [
    "# print(X_train.head())\n",
    "# Xây dựng bagging cua 50 cay quyet dinh\n",
    "model = BaggingClassifier(base_estimator=tree.DecisionTreeClassifier(), n_estimators=50)\n",
    "model.fit(X_train, y_train)\n",
    "# Dự đoán nhãn tập kiểm tra \n",
    "prediction = model.predict(X_test) \n",
    "# print(prediction)\n",
    "# Tính độ chính xác\n",
    "print(\"Do chinh xác cua mo hinh voi nghi thuc kiem tra hold-out: %.3f\" % model.score(X_test, y_test))"
   ]
  },
  {
   "cell_type": "code",
   "execution_count": 3,
   "metadata": {
    "tags": []
   },
   "outputs": [
    {
     "output_type": "stream",
     "name": "stdout",
     "text": "Do chinh xac cua mo hinh voi nghi thuc kiem tra 5-fold: 0.97 (+/- 0.02)\n"
    }
   ],
   "source": [
    "# Sử dụng nghi thức kiểm tra chéo k-fold\n",
    "from sklearn.model_selection import KFold\n",
    "from sklearn.model_selection import cross_val_score\n",
    "# Thực hiện nghi thức kiểm tra 5 fold\n",
    "nFold = 5;\n",
    "model = BaggingClassifier(base_estimator=tree.DecisionTreeClassifier(),n_estimators=50)\n",
    "scores = cross_val_score(model, X, y, cv=nFold)\n",
    "print(\"Do chinh xac cua mo hinh voi nghi thuc kiem tra {:d}-fold: {:0.2f} (+/- {:0.2f})\".format(nFold, scores.mean(), scores.std()))"
   ]
  },
  {
   "cell_type": "code",
   "execution_count": 4,
   "metadata": {},
   "outputs": [],
   "source": [
    "def load_datasets(name):\n",
    "    if name == 'Iris':\n",
    "        data = datasets.load_iris()\n",
    "    elif name == 'Breast Cancer':\n",
    "        data = datasets.load_breast_cancer()\n",
    "    elif name == 'Wine':\n",
    "        data = datasets.load_wine()\n",
    "    elif name == 'Handwritten Digits':\n",
    "        data = datasets.load_digits()\n",
    "    df = pd.DataFrame(data.data)\n",
    "    y = data.target\n",
    "    return df, y"
   ]
  },
  {
   "cell_type": "code",
   "execution_count": 5,
   "metadata": {},
   "outputs": [],
   "source": [
    "def score_dataset(dataset_name, model, X, y, cv=None):\n",
    "    if cv:\n",
    "        scores = cross_val_score(model, df, y, cv=cv)\n",
    "        print(\"%s %2d-folds = %.3f\" % (dataset_name, cv, np.mean(scores)))\n",
    "    else:\n",
    "        for nFold in range(2, 10+1):\n",
    "            scores = cross_val_score(model, df, y, cv=nFold)\n",
    "            print(\"%s %2d-folds = %.3f\" % (dataset_name, nFold, np.mean(scores)))"
   ]
  },
  {
   "cell_type": "code",
   "execution_count": 6,
   "metadata": {
    "tags": []
   },
   "outputs": [
    {
     "output_type": "stream",
     "name": "stdout",
     "text": "Breast Cancer  2-folds = 0.942\nBreast Cancer  3-folds = 0.947\nBreast Cancer  4-folds = 0.942\nBreast Cancer  5-folds = 0.953\nBreast Cancer  6-folds = 0.960\nBreast Cancer  7-folds = 0.958\nBreast Cancer  8-folds = 0.958\nBreast Cancer  9-folds = 0.958\nBreast Cancer 10-folds = 0.963\n"
    }
   ],
   "source": [
    "dataset_name = 'Breast Cancer'\n",
    "df, y = load_datasets(dataset_name)\n",
    "model = BaggingClassifier(base_estimator=tree.DecisionTreeClassifier(),n_estimators=50)\n",
    "score_dataset(dataset_name, model, df, y)"
   ]
  },
  {
   "cell_type": "code",
   "execution_count": 7,
   "metadata": {
    "tags": []
   },
   "outputs": [
    {
     "output_type": "stream",
     "name": "stdout",
     "text": "Wine  2-folds = 0.921\nWine  3-folds = 0.894\nWine  4-folds = 0.944\nWine  5-folds = 0.950\nWine  6-folds = 0.939\nWine  7-folds = 0.956\nWine  8-folds = 0.955\nWine  9-folds = 0.961\nWine 10-folds = 0.950\n"
    }
   ],
   "source": [
    "dataset_name = 'Wine'\n",
    "df, y = load_datasets(dataset_name)\n",
    "model = BaggingClassifier(base_estimator=tree.DecisionTreeClassifier(),n_estimators=50)\n",
    "score_dataset(dataset_name, model, df, y)"
   ]
  },
  {
   "cell_type": "code",
   "execution_count": 8,
   "metadata": {
    "tags": []
   },
   "outputs": [
    {
     "output_type": "stream",
     "name": "stdout",
     "text": "Handwritten Digits  2-folds = 0.884\nHandwritten Digits  3-folds = 0.903\nHandwritten Digits  4-folds = 0.912\nHandwritten Digits  5-folds = 0.909\nHandwritten Digits  6-folds = 0.918\nHandwritten Digits  7-folds = 0.907\nHandwritten Digits  8-folds = 0.916\nHandwritten Digits  9-folds = 0.922\nHandwritten Digits 10-folds = 0.923\n"
    }
   ],
   "source": [
    "dataset_name = 'Handwritten Digits'\n",
    "df, y = load_datasets(dataset_name)\n",
    "model = BaggingClassifier(base_estimator=tree.DecisionTreeClassifier(),n_estimators=50)\n",
    "score_dataset(dataset_name, model, df, y)"
   ]
  },
  {
   "cell_type": "code",
   "execution_count": null,
   "metadata": {},
   "outputs": [],
   "source": []
  }
 ]
}