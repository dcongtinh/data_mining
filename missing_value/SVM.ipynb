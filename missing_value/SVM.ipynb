{
 "metadata": {
  "language_info": {
   "codemirror_mode": {
    "name": "ipython",
    "version": 3
   },
   "file_extension": ".py",
   "mimetype": "text/x-python",
   "name": "python",
   "nbconvert_exporter": "python",
   "pygments_lexer": "ipython3",
   "version": "3.6.8-final"
  },
  "orig_nbformat": 2,
  "kernelspec": {
   "name": "Python 3.6.8 64-bit",
   "display_name": "Python 3.6.8 64-bit",
   "metadata": {
    "interpreter": {
     "hash": "aee8b7b246df8f9039afb4144a1f6fd8d2ca17a180786b69acc140d282b71a49"
    }
   }
  }
 },
 "nbformat": 4,
 "nbformat_minor": 2,
 "cells": [
  {
   "source": [
    "linear: u'*v\n",
    "\n",
    "polynomial: (gamma*u'*v + coef0)^degree\n",
    "\n",
    "radial basis function: exp(-gamma*|u-v|^2)\n",
    "\n",
    "sigmoid: tanh(gamma*u'*v + coef0)"
   ],
   "cell_type": "markdown",
   "metadata": {}
  },
  {
   "cell_type": "code",
   "execution_count": 1,
   "metadata": {
    "tags": []
   },
   "outputs": [
    {
     "output_type": "stream",
     "name": "stdout",
     "text": "       Petal length  Petal Width  Sepal Length  Sepal Width\ncount    150.000000   150.000000    150.000000   150.000000\nmean       5.843333     3.057333      3.758000     1.199333\nstd        0.828066     0.435866      1.765298     0.762238\nmin        4.300000     2.000000      1.000000     0.100000\n25%        5.100000     2.800000      1.600000     0.300000\n50%        5.800000     3.000000      4.350000     1.300000\n75%        6.400000     3.300000      5.100000     1.800000\nmax        7.900000     4.400000      6.900000     2.500000\n\n\nKiem tra xem du lieu co bi thieu (NULL) khong?\nPetal length    0\nPetal Width     0\nSepal Length    0\nSepal Width     0\ndtype: int64\nDo chinh xác cua mo hinh voi nghi thuc kiem tra hold-out: 0.956\n"
    }
   ],
   "source": [
    "# Nạp các gói thư viện cần thiết\n",
    "import numpy as np\n",
    "import pandas as pd\n",
    "from sklearn import svm\n",
    "# Đọc dữ liệu iris từ UCI (https://archive.ics.uci.edu/ml/datasets/Iris) \n",
    "# hoặc từ thư viện scikit-learn\n",
    "# Tham khảo https://scikit-learn.org/stable/auto_examples/datasets/plot_iris_dataset.html\n",
    "from sklearn import datasets\n",
    "from sklearn.model_selection import train_test_split, cross_val_score\n",
    "iris = datasets.load_iris()\n",
    "columns=[\"Petal length\",\"Petal Width\",\"Sepal Length\",\"Sepal Width\"]\n",
    "df = pd.DataFrame(iris.data, columns=columns)\n",
    "y = iris.target\n",
    "print(df.describe())\n",
    "print(\"\\n\")\n",
    "print(\"Kiem tra xem du lieu co bi thieu (NULL) khong?\") \n",
    "print(df.isnull().sum())\n",
    "# Sử dụng nghi thức kiểm tra hold-out\n",
    "# Chia dữ liệu ngẫu nhiên thành 2 tập dữ liệu con:\n",
    "# training set và test set theo tỷ lệ 70/30\n",
    "X_train, X_test, y_train, y_test = train_test_split(df, y, test_size=0.3)\n",
    "# Xây dựng mô hình svm sử dụng hàm nhân (kernel) là RBF \n",
    "# SVC là viết tắt của từ Support Vector Classification \n",
    "model = svm.SVC(kernel='rbf')\n",
    "model.fit(X_train, y_train)\n",
    "# Dự đoán nhãn tập kiểm tra \n",
    "prediction = model.predict(X_test) \n",
    "# print(prediction)\n",
    "# Tính độ chính xác\n",
    "print(\"Do chinh xác cua mo hinh voi nghi thuc kiem tra hold-out: %.3f\" % model.score(X_test, y_test))"
   ]
  },
  {
   "cell_type": "code",
   "execution_count": 2,
   "metadata": {},
   "outputs": [],
   "source": [
    "def load_datasets(name):\n",
    "    if name == 'Iris':\n",
    "        data = datasets.load_iris()\n",
    "    elif name == 'Breast Cancer':\n",
    "        data = datasets.load_breast_cancer()\n",
    "    elif name == 'Wine':\n",
    "        data = datasets.load_wine()\n",
    "    elif name == 'Handwritten Digits':\n",
    "        data = datasets.load_digits()\n",
    "    df = pd.DataFrame(data.data)\n",
    "    y = data.target\n",
    "    return df, y"
   ]
  },
  {
   "cell_type": "code",
   "execution_count": 3,
   "metadata": {},
   "outputs": [],
   "source": [
    "def score_dataset(dataset_name, model, X, y, cv=None):\n",
    "    if cv:\n",
    "        scores = cross_val_score(model, df, y, cv=cv)\n",
    "        print(\"%s %2d-folds = %.3f\" % (dataset_name, cv, np.mean(scores)))\n",
    "    else:\n",
    "        for nFold in range(2, 10+1):\n",
    "            scores = cross_val_score(model, df, y, cv=nFold)\n",
    "            print(\"%s %2d-folds = %.3f\" % (dataset_name, nFold, np.mean(scores)))"
   ]
  },
  {
   "cell_type": "code",
   "execution_count": 4,
   "metadata": {
    "tags": []
   },
   "outputs": [
    {
     "output_type": "stream",
     "name": "stdout",
     "text": "Iris  5-folds = 0.967\n"
    }
   ],
   "source": [
    "score_dataset('Iris', model, df, y, cv=5)"
   ]
  },
  {
   "cell_type": "code",
   "execution_count": 5,
   "metadata": {
    "tags": []
   },
   "outputs": [
    {
     "output_type": "stream",
     "name": "stdout",
     "text": "Breast Cancer  2-folds = 0.938\nBreast Cancer  3-folds = 0.951\nBreast Cancer  4-folds = 0.944\nBreast Cancer  5-folds = 0.946\nBreast Cancer  6-folds = 0.949\nBreast Cancer  7-folds = 0.953\nBreast Cancer  8-folds = 0.951\nBreast Cancer  9-folds = 0.946\nBreast Cancer 10-folds = 0.954\n"
    }
   ],
   "source": [
    "# Breast Cancer with 'Linear' kernel\n",
    "dataset_name = 'Breast Cancer'\n",
    "df, y = load_datasets(dataset_name)\n",
    "model = svm.SVC(kernel='linear')\n",
    "score_dataset(dataset_name, model, df, y)"
   ]
  },
  {
   "cell_type": "code",
   "execution_count": 6,
   "metadata": {
    "tags": []
   },
   "outputs": [
    {
     "output_type": "stream",
     "name": "stdout",
     "text": "Breast Cancer  2-folds = 0.935\nBreast Cancer  3-folds = 0.945\nBreast Cancer  4-folds = 0.944\nBreast Cancer  5-folds = 0.944\nBreast Cancer  6-folds = 0.949\nBreast Cancer  7-folds = 0.951\nBreast Cancer  8-folds = 0.951\nBreast Cancer  9-folds = 0.949\nBreast Cancer 10-folds = 0.947\n"
    }
   ],
   "source": [
    "# Breast Cancer with 'Polynomial' kernel\n",
    "dataset_name = 'Breast Cancer'\n",
    "df, y = load_datasets(dataset_name)\n",
    "model = svm.SVC(kernel='poly', gamma=0.001, degree=2, coef0=2)\n",
    "score_dataset(dataset_name, model, df, y)"
   ]
  },
  {
   "cell_type": "code",
   "execution_count": 16,
   "metadata": {
    "tags": []
   },
   "outputs": [
    {
     "output_type": "stream",
     "name": "stdout",
     "text": "Breast Cancer  2-folds = 0.926\nBreast Cancer  3-folds = 0.931\nBreast Cancer  4-folds = 0.935\nBreast Cancer  5-folds = 0.935\nBreast Cancer  6-folds = 0.937\nBreast Cancer  7-folds = 0.933\nBreast Cancer  8-folds = 0.937\nBreast Cancer  9-folds = 0.933\nBreast Cancer 10-folds = 0.939\n"
    }
   ],
   "source": [
    "# Breast Cancer with 'RBF' kernel\n",
    "dataset_name = 'Breast Cancer'\n",
    "df, y = load_datasets(dataset_name)\n",
    "model = svm.SVC(kernel='rbf', gamma=0.0001)\n",
    "score_dataset(dataset_name, model, df, y)"
   ]
  },
  {
   "cell_type": "code",
   "execution_count": 21,
   "metadata": {
    "tags": []
   },
   "outputs": [
    {
     "output_type": "stream",
     "name": "stdout",
     "text": "Wine  2-folds = 0.961\nWine  3-folds = 0.933\nWine  4-folds = 0.967\nWine  5-folds = 0.961\nWine  6-folds = 0.956\nWine  7-folds = 0.950\nWine  8-folds = 0.967\nWine  9-folds = 0.967\nWine 10-folds = 0.961\n"
    }
   ],
   "source": [
    "# Wine with 'Linear' kernel\n",
    "dataset_name = 'Wine'\n",
    "df, y = load_datasets(dataset_name)\n",
    "model = svm.SVC(kernel='linear', C=1000)\n",
    "score_dataset(dataset_name, model, df, y)"
   ]
  },
  {
   "cell_type": "code",
   "execution_count": 48,
   "metadata": {
    "tags": []
   },
   "outputs": [
    {
     "output_type": "stream",
     "name": "stdout",
     "text": "Wine  2-folds = 0.955\nWine  3-folds = 0.922\nWine  4-folds = 0.983\nWine  5-folds = 0.967\nWine  6-folds = 0.967\nWine  7-folds = 0.961\nWine  8-folds = 0.961\nWine  9-folds = 0.961\nWine 10-folds = 0.961\n"
    }
   ],
   "source": [
    "# Wine with 'Polynomial' kernel\n",
    "dataset_name = 'Wine'\n",
    "df, y = load_datasets(dataset_name)\n",
    "model = svm.SVC(kernel='poly', gamma=0.001, C=1000)\n",
    "score_dataset(dataset_name, model, df, y)"
   ]
  },
  {
   "cell_type": "code",
   "execution_count": 39,
   "metadata": {
    "tags": []
   },
   "outputs": [
    {
     "output_type": "stream",
     "name": "stdout",
     "text": "Wine  2-folds = 0.657\nWine  3-folds = 0.658\nWine  4-folds = 0.669\nWine  5-folds = 0.708\nWine  6-folds = 0.698\nWine  7-folds = 0.714\nWine  8-folds = 0.707\nWine  9-folds = 0.725\nWine 10-folds = 0.709\n"
    }
   ],
   "source": [
    "# Wine with 'RBF' kernel\n",
    "dataset_name = 'Wine'\n",
    "df, y = load_datasets(dataset_name)\n",
    "model = svm.SVC(kernel='rbf', gamma=0.0001)\n",
    "score_dataset(dataset_name, model, df, y)"
   ]
  },
  {
   "cell_type": "code",
   "execution_count": 43,
   "metadata": {
    "tags": []
   },
   "outputs": [
    {
     "output_type": "stream",
     "name": "stdout",
     "text": "Handwritten Digits  2-folds = 0.940\nHandwritten Digits  3-folds = 0.944\nHandwritten Digits  4-folds = 0.951\nHandwritten Digits  5-folds = 0.948\nHandwritten Digits  6-folds = 0.953\nHandwritten Digits  7-folds = 0.950\nHandwritten Digits  8-folds = 0.956\nHandwritten Digits  9-folds = 0.955\nHandwritten Digits 10-folds = 0.960\n"
    }
   ],
   "source": [
    "# Handwritten Digits with 'Linear' kernel\n",
    "dataset_name = 'Handwritten Digits'\n",
    "df, y = load_datasets(dataset_name)\n",
    "model = svm.SVC(kernel='linear', C=1000)\n",
    "score_dataset(dataset_name, model, df, y)"
   ]
  },
  {
   "cell_type": "code",
   "execution_count": 47,
   "metadata": {
    "tags": []
   },
   "outputs": [
    {
     "output_type": "stream",
     "name": "stdout",
     "text": "Handwritten Digits  2-folds = 0.949\nHandwritten Digits  3-folds = 0.960\nHandwritten Digits  4-folds = 0.970\nHandwritten Digits  5-folds = 0.969\nHandwritten Digits  6-folds = 0.972\nHandwritten Digits  7-folds = 0.971\nHandwritten Digits  8-folds = 0.973\nHandwritten Digits  9-folds = 0.979\nHandwritten Digits 10-folds = 0.977\n"
    }
   ],
   "source": [
    "# Handwritten Digits with 'Polynomial' kernel\n",
    "dataset_name = 'Handwritten Digits'\n",
    "df, y = load_datasets(dataset_name)\n",
    "model = svm.SVC(kernel='poly', gamma=0.001, C=1000)\n",
    "score_dataset(dataset_name, model, df, y)"
   ]
  },
  {
   "cell_type": "code",
   "execution_count": 50,
   "metadata": {
    "tags": []
   },
   "outputs": [
    {
     "output_type": "stream",
     "name": "stdout",
     "text": "Handwritten Digits  2-folds = 0.957\nHandwritten Digits  3-folds = 0.970\nHandwritten Digits  4-folds = 0.965\nHandwritten Digits  5-folds = 0.963\nHandwritten Digits  6-folds = 0.970\nHandwritten Digits  7-folds = 0.967\nHandwritten Digits  8-folds = 0.968\nHandwritten Digits  9-folds = 0.976\nHandwritten Digits 10-folds = 0.970\n"
    }
   ],
   "source": [
    "# Handwritten Digits with 'RBF' kernel\n",
    "dataset_name = 'Handwritten Digits'\n",
    "df, y = load_datasets(dataset_name)\n",
    "model = svm.SVC(kernel='rbf')\n",
    "score_dataset(dataset_name, model, df, y)"
   ]
  },
  {
   "cell_type": "code",
   "execution_count": null,
   "metadata": {},
   "outputs": [],
   "source": []
  }
 ]
}