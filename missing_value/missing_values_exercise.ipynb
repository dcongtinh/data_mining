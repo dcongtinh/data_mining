{
 "metadata": {
  "language_info": {
   "codemirror_mode": {
    "name": "ipython",
    "version": 3
   },
   "file_extension": ".py",
   "mimetype": "text/x-python",
   "name": "python",
   "nbconvert_exporter": "python",
   "pygments_lexer": "ipython3",
   "version": "3.6.8-final"
  },
  "orig_nbformat": 2,
  "kernelspec": {
   "name": "Python 3.6.8 64-bit",
   "display_name": "Python 3.6.8 64-bit",
   "metadata": {
    "interpreter": {
     "hash": "aee8b7b246df8f9039afb4144a1f6fd8d2ca17a180786b69acc140d282b71a49"
    }
   }
  }
 },
 "nbformat": 4,
 "nbformat_minor": 2,
 "cells": [
  {
   "source": [
    "**1. Bài tập về xử lý các trường hợp dữ liệu bị thiếu**\n",
    "\n",
    "Trong bài tập này, chúng ta sẽ làm việc với bộ dữ liệu Housing Prices. \n",
    "\n",
    "Tập dữ liệu này có 79 giá trị mô tả (gần như) mọi khía cạnh của các căn nhà ở tại Ames, Iowa.\n",
    "Với tập dữ liệu này, chúng ta cần xây dựng mô hình để dự đoán giá của mỗi ngôi nhà."
   ],
   "cell_type": "markdown",
   "metadata": {}
  },
  {
   "cell_type": "code",
   "execution_count": 1,
   "metadata": {},
   "outputs": [
    {
     "output_type": "execute_result",
     "data": {
      "text/plain": "     MSSubClass  LotFrontage  LotArea  OverallQual  OverallCond  YearBuilt  \\\nId                                                                           \n619          20         90.0    11694            9            5       2007   \n871          20         60.0     6600            5            5       1962   \n93           30         80.0    13360            5            7       1921   \n818          20          NaN    13265            8            5       2002   \n303          20        118.0    13704            7            5       2001   \n\n     YearRemodAdd  MasVnrArea  BsmtFinSF1  BsmtFinSF2  ...  GarageArea  \\\nId                                                     ...               \n619          2007       452.0          48           0  ...         774   \n871          1962         0.0           0           0  ...         308   \n93           2006         0.0         713           0  ...         432   \n818          2002       148.0        1218           0  ...         857   \n303          2002       150.0           0           0  ...         843   \n\n     WoodDeckSF  OpenPorchSF  EnclosedPorch  3SsnPorch  ScreenPorch  PoolArea  \\\nId                                                                              \n619           0          108              0          0          260         0   \n871           0            0              0          0            0         0   \n93            0            0             44          0            0         0   \n818         150           59              0          0            0         0   \n303         468           81              0          0            0         0   \n\n     MiscVal  MoSold  YrSold  \nId                            \n619        0       7    2007  \n871        0       8    2009  \n93         0       8    2009  \n818        0       7    2008  \n303        0       1    2006  \n\n[5 rows x 36 columns]",
      "text/html": "<div>\n<style scoped>\n    .dataframe tbody tr th:only-of-type {\n        vertical-align: middle;\n    }\n\n    .dataframe tbody tr th {\n        vertical-align: top;\n    }\n\n    .dataframe thead th {\n        text-align: right;\n    }\n</style>\n<table border=\"1\" class=\"dataframe\">\n  <thead>\n    <tr style=\"text-align: right;\">\n      <th></th>\n      <th>MSSubClass</th>\n      <th>LotFrontage</th>\n      <th>LotArea</th>\n      <th>OverallQual</th>\n      <th>OverallCond</th>\n      <th>YearBuilt</th>\n      <th>YearRemodAdd</th>\n      <th>MasVnrArea</th>\n      <th>BsmtFinSF1</th>\n      <th>BsmtFinSF2</th>\n      <th>...</th>\n      <th>GarageArea</th>\n      <th>WoodDeckSF</th>\n      <th>OpenPorchSF</th>\n      <th>EnclosedPorch</th>\n      <th>3SsnPorch</th>\n      <th>ScreenPorch</th>\n      <th>PoolArea</th>\n      <th>MiscVal</th>\n      <th>MoSold</th>\n      <th>YrSold</th>\n    </tr>\n    <tr>\n      <th>Id</th>\n      <th></th>\n      <th></th>\n      <th></th>\n      <th></th>\n      <th></th>\n      <th></th>\n      <th></th>\n      <th></th>\n      <th></th>\n      <th></th>\n      <th></th>\n      <th></th>\n      <th></th>\n      <th></th>\n      <th></th>\n      <th></th>\n      <th></th>\n      <th></th>\n      <th></th>\n      <th></th>\n      <th></th>\n    </tr>\n  </thead>\n  <tbody>\n    <tr>\n      <th>619</th>\n      <td>20</td>\n      <td>90.0</td>\n      <td>11694</td>\n      <td>9</td>\n      <td>5</td>\n      <td>2007</td>\n      <td>2007</td>\n      <td>452.0</td>\n      <td>48</td>\n      <td>0</td>\n      <td>...</td>\n      <td>774</td>\n      <td>0</td>\n      <td>108</td>\n      <td>0</td>\n      <td>0</td>\n      <td>260</td>\n      <td>0</td>\n      <td>0</td>\n      <td>7</td>\n      <td>2007</td>\n    </tr>\n    <tr>\n      <th>871</th>\n      <td>20</td>\n      <td>60.0</td>\n      <td>6600</td>\n      <td>5</td>\n      <td>5</td>\n      <td>1962</td>\n      <td>1962</td>\n      <td>0.0</td>\n      <td>0</td>\n      <td>0</td>\n      <td>...</td>\n      <td>308</td>\n      <td>0</td>\n      <td>0</td>\n      <td>0</td>\n      <td>0</td>\n      <td>0</td>\n      <td>0</td>\n      <td>0</td>\n      <td>8</td>\n      <td>2009</td>\n    </tr>\n    <tr>\n      <th>93</th>\n      <td>30</td>\n      <td>80.0</td>\n      <td>13360</td>\n      <td>5</td>\n      <td>7</td>\n      <td>1921</td>\n      <td>2006</td>\n      <td>0.0</td>\n      <td>713</td>\n      <td>0</td>\n      <td>...</td>\n      <td>432</td>\n      <td>0</td>\n      <td>0</td>\n      <td>44</td>\n      <td>0</td>\n      <td>0</td>\n      <td>0</td>\n      <td>0</td>\n      <td>8</td>\n      <td>2009</td>\n    </tr>\n    <tr>\n      <th>818</th>\n      <td>20</td>\n      <td>NaN</td>\n      <td>13265</td>\n      <td>8</td>\n      <td>5</td>\n      <td>2002</td>\n      <td>2002</td>\n      <td>148.0</td>\n      <td>1218</td>\n      <td>0</td>\n      <td>...</td>\n      <td>857</td>\n      <td>150</td>\n      <td>59</td>\n      <td>0</td>\n      <td>0</td>\n      <td>0</td>\n      <td>0</td>\n      <td>0</td>\n      <td>7</td>\n      <td>2008</td>\n    </tr>\n    <tr>\n      <th>303</th>\n      <td>20</td>\n      <td>118.0</td>\n      <td>13704</td>\n      <td>7</td>\n      <td>5</td>\n      <td>2001</td>\n      <td>2002</td>\n      <td>150.0</td>\n      <td>0</td>\n      <td>0</td>\n      <td>...</td>\n      <td>843</td>\n      <td>468</td>\n      <td>81</td>\n      <td>0</td>\n      <td>0</td>\n      <td>0</td>\n      <td>0</td>\n      <td>0</td>\n      <td>1</td>\n      <td>2006</td>\n    </tr>\n  </tbody>\n</table>\n<p>5 rows × 36 columns</p>\n</div>"
     },
     "metadata": {},
     "execution_count": 1
    }
   ],
   "source": [
    "import pandas as pd\n",
    "from sklearn.model_selection import train_test_split\n",
    "\n",
    "# Đọc dữ liệu\n",
    "X_full = pd.read_csv('https://raw.githubusercontent.com/ltdaovn/dataset/master/housing-prices/train.csv',\n",
    "                     index_col='Id')\n",
    "X_test_full = pd.read_csv('https://raw.githubusercontent.com/ltdaovn/dataset/master/housing-prices/test.csv',\n",
    "                          index_col='Id')\n",
    "\n",
    "# Loại bỏ các căn nhà không có giá\n",
    "X_full.dropna(axis=0, subset=['SalePrice'], inplace=True)\n",
    "y = X_full.SalePrice\n",
    "X_full.drop(['SalePrice'], axis=1, inplace=True)\n",
    "\n",
    "# Để đơn giản bài toán, ở đây chúng ta chỉ chọn các thuộc tính số\n",
    "X = X_full.select_dtypes(exclude=['object'])\n",
    "X_test = X_test_full.select_dtypes(exclude=['object'])\n",
    "\n",
    "# Chia tập dữ liệu thành 2 tập dữ liệu con là training set và validation set\n",
    "X_train, X_valid, y_train, y_valid = train_test_split(X, y,\n",
    "                                                      train_size=0.8,\n",
    "                                                      test_size=0.2,\n",
    "                                                      random_state=0)\n",
    "\n",
    "# Xem các căn nhà đầu tiên trong tập dữ liệu huấn luyện. Chú ý các giá trị bị thiếu.\n",
    "X_train.head()"
   ]
  },
  {
   "source": [
    "**Bước 1: Làm quen với dữ liệu**"
   ],
   "cell_type": "markdown",
   "metadata": {}
  },
  {
   "cell_type": "code",
   "execution_count": 2,
   "metadata": {
    "tags": []
   },
   "outputs": [
    {
     "output_type": "stream",
     "name": "stdout",
     "text": "(1168, 36)\nLotFrontage    212\nMasVnrArea       6\nGarageYrBlt     58\ndtype: int64\n"
    }
   ],
   "source": [
    "# Xem mô tả tập dữ liệu huấn luyện\n",
    "print(X_train.shape)\n",
    "\n",
    "# Số lượng dữ liệu bị thiếu trong các cột\n",
    "missing_val_count_by_column = (X_train.isnull().sum())\n",
    "print(missing_val_count_by_column[missing_val_count_by_column > 0])"
   ]
  },
  {
   "source": [
    "**Hãy trả lời các câu hỏi sau đây?**\n",
    "\n",
    "Có bao nhiêu căn nhà trong tập dữ liệu huấn luyện?\n",
    "\n",
    "num_rows = **1168**\n",
    "\n",
    "Có bao nhiêu cột dữ liệu bị thiếu?\n",
    "\n",
    "num_cols_with_missing = **3**\n",
    "\n",
    "How many missing entries are contained in all of the training data?\n",
    "\n",
    "tot_missing = **212 + 6 + 58 = 276**\n",
    "\n",
    "Theo bạn, phương pháp nào thích hợp **nhất** để xử lý trường hợp bị thiếu dữ liệu này?\n",
    "\n",
    "--> Sử dụng **phương pháp xoá cột**"
   ],
   "cell_type": "markdown",
   "metadata": {}
  },
  {
   "source": [
    "**Bước 2: định nghĩa hàm để đo chất lượng của từng phương pháp**\n",
    "\n",
    "Để so sánh chất lượng của các phương pháp, chúng ta cần định nghĩa hàm score_dataset(). \n",
    "\n",
    "Hàm được sử dụng trong ví dụ này là hàm Trung bình của sai biệt tuyệt đối (Sai số tuyệt đối trung bình)(the mean absolute error (MAE)) \n",
    "dành cho mô hình rừng ngẫu nhiên (RandomForest).\n",
    "(https://en.wikipedia.org/wiki/Mean_absolute_error) "
   ],
   "cell_type": "markdown",
   "metadata": {}
  },
  {
   "cell_type": "code",
   "execution_count": 37,
   "metadata": {},
   "outputs": [],
   "source": [
    "from sklearn.ensemble import RandomForestRegressor\n",
    "from sklearn.metrics import mean_absolute_error, accuracy_score\n",
    "\n",
    "def score_dataset(X_train, X_valid, y_train, y_valid):\n",
    "    model = RandomForestRegressor(n_estimators=100, random_state=0)\n",
    "    model.fit(X_train, y_train)\n",
    "    preds = model.predict(X_valid)\n",
    "    return mean_absolute_error(y_valid, preds)"
   ]
  },
  {
   "source": [
    "**Bước 3:**\n",
    "\n",
    "Trong các phương pháp xử lý dữ liệu bị thiếu bạn đã học,\n",
    "phương pháp nào cho kết quả dự báo chính xác nhất.\n",
    "Hãy cho biết giá trị MAE của từng mô hình.\n",
    "\n",
    "--> **Phương pháp xoá cột** hiệu quả nhất với MAE = 17837.825708 thấp nhất"
   ],
   "cell_type": "markdown",
   "metadata": {}
  },
  {
   "source": [
    "**3.a. Phương pháp 1: Xóa cột có dữ liệu bị thiếu**"
   ],
   "cell_type": "markdown",
   "metadata": {}
  },
  {
   "cell_type": "code",
   "execution_count": 38,
   "metadata": {
    "tags": []
   },
   "outputs": [
    {
     "output_type": "stream",
     "name": "stdout",
     "text": "MAE from Approach 1 (Drop columns with missing values) = 17837.825708\n"
    }
   ],
   "source": [
    "# Lấy tên các cột có dữ liệu bị thiếu\n",
    "cols_with_missing = [col for col in X_train.columns\n",
    "                     if X_train[col].isnull().any()]\n",
    "\n",
    "# Xóa các cột này trong tập training và validation\n",
    "reduced_X_train = X_train.drop(cols_with_missing, axis=1)\n",
    "reduced_X_valid = X_valid.drop(cols_with_missing, axis=1)\n",
    "\n",
    "MAE_Score = score_dataset(reduced_X_train, reduced_X_valid, y_train, y_valid)\n",
    "print(\"MAE from Approach 1 (Drop columns with missing values) = %f\" % MAE_Score)"
   ]
  },
  {
   "source": [
    "**3.b. Phương pháp 2: Thay thế**\n",
    "\n",
    "Thư viện Scikit-Learn cung cấp một lớp hiệu quả để chúng ta giải quyết các giá trị thiếu:\n",
    "SimpleImputer."
   ],
   "cell_type": "markdown",
   "metadata": {}
  },
  {
   "cell_type": "code",
   "execution_count": 12,
   "metadata": {
    "tags": []
   },
   "outputs": [
    {
     "output_type": "stream",
     "name": "stdout",
     "text": "MAE from Approach 2 (Imputation) = 18062.894612\n"
    }
   ],
   "source": [
    "from sklearn.impute import SimpleImputer\n",
    "\n",
    "my_imputer = SimpleImputer()\n",
    "\n",
    "imputed_X_train = pd.DataFrame(my_imputer.fit_transform(X_train))\n",
    "imputed_X_valid = pd.DataFrame(my_imputer.transform(X_valid))\n",
    "imputed_X_train.columns = X_train.columns\n",
    "imputed_X_valid.columns = X_valid.columns\n",
    "\n",
    "# Đánh giá mô hình\n",
    "MAE_Score = score_dataset(imputed_X_train, imputed_X_valid, y_train, y_valid)\n",
    "print(\"MAE from Approach 2 (Imputation) = %f\" % MAE_Score)"
   ]
  },
  {
   "source": [
    "**3.c. Phương pháp 3: cải tiến phương pháp thay thế**"
   ],
   "cell_type": "markdown",
   "metadata": {}
  },
  {
   "cell_type": "code",
   "execution_count": 13,
   "metadata": {
    "tags": []
   },
   "outputs": [
    {
     "output_type": "stream",
     "name": "stdout",
     "text": "MAE from Approach 3 (An Extension to Imputation) = 18148.417180\n"
    }
   ],
   "source": [
    "# Để đảm bảo an toàn, tạo bản sao dữ liệu\n",
    "X_train_plus = X_train.copy()\n",
    "X_valid_plus = X_valid.copy()\n",
    "\n",
    "# Tạo các cột mới để đánh dấu các vị trí dữ liệu được thay thế\n",
    "\n",
    "for col in cols_with_missing:\n",
    "    X_train_plus[col + '_was_missing'] = X_train_plus[col].isnull()\n",
    "    X_valid_plus[col + '_was_missing'] = X_valid_plus[col].isnull()\n",
    "\n",
    "# Phương pháp thay thế cải tiến my_imputer = SimpleImputer()\n",
    "imputed_X_train_plus = pd.DataFrame(my_imputer.fit_transform(X_train_plus))\n",
    "imputed_X_valid_plus = pd.DataFrame(my_imputer.transform(X_valid_plus))\n",
    "imputed_X_train_plus.columns = X_train_plus.columns\n",
    "imputed_X_valid_plus.columns = X_valid_plus.columns\n",
    "\n",
    "# Đánh giá mô hình\n",
    "\n",
    "MAE_Score = score_dataset(imputed_X_train_plus, imputed_X_valid_plus, y_train, y_valid)\n",
    "print(\"MAE from Approach 3 (An Extension to Imputation) = %f\" % MAE_Score)"
   ]
  }
 ]
}