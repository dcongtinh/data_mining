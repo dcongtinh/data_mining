{
 "metadata": {
  "language_info": {
   "codemirror_mode": {
    "name": "ipython",
    "version": 3
   },
   "file_extension": ".py",
   "mimetype": "text/x-python",
   "name": "python",
   "nbconvert_exporter": "python",
   "pygments_lexer": "ipython3",
   "version": "3.6.8-final"
  },
  "orig_nbformat": 2,
  "kernelspec": {
   "name": "Python 3.6.8 64-bit",
   "display_name": "Python 3.6.8 64-bit",
   "metadata": {
    "interpreter": {
     "hash": "aee8b7b246df8f9039afb4144a1f6fd8d2ca17a180786b69acc140d282b71a49"
    }
   }
  }
 },
 "nbformat": 4,
 "nbformat_minor": 2,
 "cells": [
  {
   "source": [
    "**1. Ví dụ về xử lý các trường hợp dữ liệu bị thiếu**\n",
    "\n",
    "Trong ví dụ này, chúng ta sẽ làm việc với bộ dữ liệu Melbourne Housing.\n",
    "Mô hình của chúng ta sẽ sử dụng thông tin như số lượng căn phòng và kích thước miếng đất để\n",
    "dự đoán giá nhà."
   ],
   "cell_type": "markdown",
   "metadata": {}
  },
  {
   "cell_type": "code",
   "execution_count": 1,
   "metadata": {},
   "outputs": [],
   "source": [
    "from sklearn.impute import SimpleImputer\n",
    "from sklearn.metrics import mean_absolute_error, accuracy_score\n",
    "from sklearn.ensemble import RandomForestRegressor\n",
    "import pandas as pd\n",
    "\n",
    "from sklearn.model_selection import train_test_split"
   ]
  },
  {
   "cell_type": "code",
   "execution_count": 2,
   "metadata": {},
   "outputs": [],
   "source": [
    "# Đọc dữ liệu\n",
    "\n",
    "data = pd.read_csv(\n",
    "    'https://raw.githubusercontent.com/ltdaovn/dataset/master/melbourne-housing-snapshot/melb_data.csv')\n",
    "\n",
    "# Chọn chỉ số cần dự báo\n",
    "y = data.Price\n",
    "\n",
    "# Để đơn giản bài toán, ở đây chúng ta chỉ chọn các thuộc tính số\n",
    "melb_predictors = data.drop(['Price'], axis=1)\n",
    "X = melb_predictors.select_dtypes(exclude=['object'])"
   ]
  },
  {
   "cell_type": "code",
   "execution_count": 3,
   "metadata": {},
   "outputs": [],
   "source": [
    "# Chia tập dữ liệu thành 2 tập dữ liệu con là training set và validation set\n",
    "X_train, X_valid, y_train, y_valid = train_test_split(\n",
    "    X, y, test_size=0.2,  random_state=0)"
   ]
  },
  {
   "source": [
    "**2. Định nghĩa hàm để đo chất lượng của từng phương pháp**\n",
    "\n",
    "Chúng ta định nghĩa hàm score_dataset() để so sánh chất lượng của các phương pháp.   Hàm được sử dụng trong ví dụ này là hàm Trung bình của sai biệt tuyệt đối (the mean absolute   error (MAE))   dành cho mô hình rừng ngẫu nhiên (RandomForest)."
   ],
   "cell_type": "markdown",
   "metadata": {}
  },
  {
   "cell_type": "code",
   "execution_count": 4,
   "metadata": {},
   "outputs": [],
   "source": [
    "def score_dataset(X_train, X_valid, y_train, y_valid):\n",
    "    model = RandomForestRegressor(n_estimators=10, random_state=0)\n",
    "    model.fit(X_train, y_train)\n",
    "    preds = model.predict(X_valid)\n",
    "    # MAE = tổng (|y_i - y_i_hat|) / n\n",
    "    return mean_absolute_error(y_valid, preds)"
   ]
  },
  {
   "source": [
    "**3.a. Phương pháp 1: Xóa cột có dữ liệu bị thiếu**"
   ],
   "cell_type": "markdown",
   "metadata": {}
  },
  {
   "cell_type": "code",
   "execution_count": 5,
   "metadata": {
    "tags": []
   },
   "outputs": [
    {
     "output_type": "stream",
     "name": "stdout",
     "text": "MAE from Approach 1 (Drop columns with missing values):\n183550.22137772635\n"
    }
   ],
   "source": [
    "# Lấy tên các cột có dữ liệu bị thiếu\n",
    "cols_with_missing = [col for col in X_train.columns\n",
    "                     if X_train[col].isnull().any()]\n",
    "\n",
    "# Xóa các cột này trong tập training và validation\n",
    "reduced_X_train = X_train.drop(cols_with_missing, axis=1)\n",
    "reduced_X_valid = X_valid.drop(cols_with_missing, axis=1)\n",
    "\n",
    "print(\"MAE from Approach 1 (Drop columns with missing values):\")\n",
    "print(score_dataset(reduced_X_train, reduced_X_valid, y_train, y_valid))"
   ]
  },
  {
   "source": [
    "**3.b. Phương pháp 2: Thay thế**\n",
    "\n",
    "Thư viện Scikit-Learn cung cấp một lớp hiệu quả để chúng ta giải quyết các giá trị thiếu:\n",
    "SimpleImputer."
   ],
   "cell_type": "markdown",
   "metadata": {}
  },
  {
   "cell_type": "code",
   "execution_count": 6,
   "metadata": {
    "tags": []
   },
   "outputs": [
    {
     "output_type": "stream",
     "name": "stdout",
     "text": "MAE from Approach 2 (Imputation):\n178166.46269899711\n"
    }
   ],
   "source": [
    "my_imputer = SimpleImputer()\n",
    "\n",
    "imputed_X_train = pd.DataFrame(my_imputer.fit_transform(X_train))\n",
    "imputed_X_valid = pd.DataFrame(my_imputer.transform(X_valid))\n",
    "imputed_X_train.columns = X_train.columns\n",
    "imputed_X_valid.columns = X_valid.columns\n",
    "\n",
    "# Đánh giá mô hình\n",
    "\n",
    "print(\"MAE from Approach 2 (Imputation):\")\n",
    "\n",
    "print(score_dataset(imputed_X_train, imputed_X_valid, y_train, y_valid))\n",
    "\n",
    "# Câu hỏi: Hàm fit_transform thực hiện tác vụ gì?\n",
    "# --> Fit huấn luyện dữ liệu sau đó chuyển đổi (transform) dữ liệu"
   ]
  },
  {
   "source": [
    "**3.c. Phương pháp 3: cải tiến phương pháp thay thế**"
   ],
   "cell_type": "markdown",
   "metadata": {}
  },
  {
   "cell_type": "code",
   "execution_count": 7,
   "metadata": {
    "tags": []
   },
   "outputs": [
    {
     "output_type": "stream",
     "name": "stdout",
     "text": "MAE from Approach 3 (An Extension to Imputation):\n178927.503183954\n"
    }
   ],
   "source": [
    "# Để đảm bảo an toàn, tạo bản sao dữ liệu\n",
    "X_train_plus = X_train.copy()\n",
    "X_valid_plus = X_valid.copy()\n",
    "\n",
    "# Tạo các cột mới để đánh dấu các vị trí dữ liệu được thay thế\n",
    "\n",
    "for col in cols_with_missing:\n",
    "    X_train_plus[col + '_was_missing'] = X_train_plus[col].isnull()\n",
    "    X_valid_plus[col + '_was_missing'] = X_valid_plus[col].isnull()\n",
    "\n",
    "# Phương pháp thay thế cải tiến my_imputer = SimpleImputer()\n",
    "imputed_X_train_plus = pd.DataFrame(my_imputer.fit_transform(X_train_plus))\n",
    "imputed_X_valid_plus = pd.DataFrame(my_imputer.transform(X_valid_plus))\n",
    "imputed_X_train_plus.columns = X_train_plus.columns\n",
    "imputed_X_valid_plus.columns = X_valid_plus.columns\n",
    "\n",
    "# Đánh giá mô hình\n",
    "\n",
    "print(\"MAE from Approach 3 (An Extension to Imputation):\")\n",
    "\n",
    "print(score_dataset(imputed_X_train_plus, imputed_X_valid_plus, y_train, y_valid))\n",
    "\n",
    "# Dựa trên kết quả, chúng ta thấy phương pháp 3 kém hiệu quả hơn phương pháp 2?"
   ]
  },
  {
   "source": [
    "**4. Đánh giá**\n",
    "\n",
    "Câu hỏi: tại sao phương pháp phương pháp thay thế lại hiệu quả hơn phương pháp loại bỏ cột? \n",
    "\n",
    "Gợi ý trả lời: Tập training có 10.864 dòng và 12 cột, trong đó có 03 cột chứa dữ liệu bị thiếu.\n",
    "\n",
    "Đối với mỗi cột, ít hơn một nửa số mục bị thiếu.\n",
    "\n",
    "Do đó, việc bỏ các cột sẽ loại bỏ rất nhiều thông tin hữu ích."
   ],
   "cell_type": "markdown",
   "metadata": {}
  },
  {
   "cell_type": "code",
   "execution_count": 8,
   "metadata": {
    "tags": []
   },
   "outputs": [
    {
     "output_type": "stream",
     "name": "stdout",
     "text": "(10864, 12)\nCar               49\nBuildingArea    5156\nYearBuilt       4307\ndtype: int64\n"
    }
   ],
   "source": [
    "# Mô tả tập dữ liệu training\n",
    "\n",
    "print(X_train.shape)\n",
    "# Số lượng dữ liệu bị thiếu trong từng cột dữ liệu trong tập dữ liệu training\n",
    "missing_val_count_by_column = (X_train.isnull().sum())\n",
    "print(missing_val_count_by_column[missing_val_count_by_column > 0])"
   ]
  },
  {
   "cell_type": "code",
   "execution_count": null,
   "metadata": {},
   "outputs": [],
   "source": []
  }
 ]
}