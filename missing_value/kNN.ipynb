{
 "metadata": {
  "language_info": {
   "codemirror_mode": {
    "name": "ipython",
    "version": 3
   },
   "file_extension": ".py",
   "mimetype": "text/x-python",
   "name": "python",
   "nbconvert_exporter": "python",
   "pygments_lexer": "ipython3",
   "version": "3.6.8-final"
  },
  "orig_nbformat": 2,
  "kernelspec": {
   "name": "Python 3.6.8 64-bit",
   "display_name": "Python 3.6.8 64-bit",
   "metadata": {
    "interpreter": {
     "hash": "aee8b7b246df8f9039afb4144a1f6fd8d2ca17a180786b69acc140d282b71a49"
    }
   }
  }
 },
 "nbformat": 4,
 "nbformat_minor": 2,
 "cells": [
  {
   "cell_type": "code",
   "execution_count": 1,
   "metadata": {},
   "outputs": [],
   "source": [
    "# Nạp các gói thư viện cần thiết\n",
    "import numpy as np\n",
    "import pandas as pd\n",
    "from sklearn.neighbors import KNeighborsClassifier\n",
    "\n",
    "# Đọc dữ liệu iris từ UCI (https://archive.ics.uci.edu/ml/datasets/Iris) # hoặc từ thư viện scikit-learn\n",
    "# Tham khảo https://scikit- learn.org/stable/auto_examples/datasets/plot_iris_dataset.html\n",
    "from sklearn import datasets\n",
    "from sklearn.model_selection import train_test_split, cross_val_score\n"
   ]
  },
  {
   "cell_type": "code",
   "execution_count": 2,
   "metadata": {
    "tags": []
   },
   "outputs": [
    {
     "output_type": "stream",
     "name": "stdout",
     "text": "       Petal length  Petal Width  Sepal Length  Sepal Width\ncount    150.000000   150.000000    150.000000   150.000000\nmean       5.843333     3.057333      3.758000     1.199333\nstd        0.828066     0.435866      1.765298     0.762238\nmin        4.300000     2.000000      1.000000     0.100000\n25%        5.100000     2.800000      1.600000     0.300000\n50%        5.800000     3.000000      4.350000     1.300000\n75%        6.400000     3.300000      5.100000     1.800000\nmax        7.900000     4.400000      6.900000     2.500000\n\n\nKiem tra xem du lieu co bi thieu (NULL) khong?\nPetal length    0\nPetal Width     0\nSepal Length    0\nSepal Width     0\ndtype: int64\nDo chinh xác cua mo hinh voi nghi thuc kiem tra hold-out: 0.978\n"
    }
   ],
   "source": [
    "iris = datasets.load_iris()\n",
    "columns=[\"Petal length\",\"Petal Width\",\"Sepal Length\",\"Sepal Width\"]\n",
    "df = pd.DataFrame(iris.data, columns=columns)\n",
    "y = iris.target\n",
    "print(df.describe())\n",
    "print(\"\\n\")\n",
    "print(\"Kiem tra xem du lieu co bi thieu (NULL) khong?\")\n",
    "print(df.isnull().sum())\n",
    "# Sử dụng nghi thức kiểm tra hold-out\n",
    "# Chia dữ liệu ngẫu nhiên thành 2 tập dữ liệu con:\n",
    "# training set và test set theo tỷ lệ 70/30\n",
    "X_train, X_test, y_train, y_test = train_test_split(df, y, test_size=0.3)\n",
    "# Xây dựng mô hình với k = 3\n",
    "model = KNeighborsClassifier(n_neighbors=3)\n",
    "model.fit(X_train, y_train)\n",
    "# Dự đoán nhãn tập kiểm tra prediction = model.predict(X_test) #print(prediction)\n",
    "# Tính độ chính xác\n",
    "print(\"Do chinh xác cua mo hinh voi nghi thuc kiem tra hold-out: %.3f\" % model.score(X_test, y_test))"
   ]
  },
  {
   "cell_type": "code",
   "execution_count": 3,
   "metadata": {},
   "outputs": [],
   "source": [
    "def load_datasets(name):\n",
    "    if name == 'Iris':\n",
    "        data = datasets.load_iris()\n",
    "    elif name == 'Breast Cancer':\n",
    "        data = datasets.load_breast_cancer()\n",
    "    elif name == 'Wine':\n",
    "        data = datasets.load_wine()\n",
    "    elif name == 'Handwritten Digits':\n",
    "        data = datasets.load_digits()\n",
    "    df = pd.DataFrame(data.data)\n",
    "    y = data.target\n",
    "    return df, y"
   ]
  },
  {
   "cell_type": "code",
   "execution_count": 4,
   "metadata": {},
   "outputs": [],
   "source": [
    "def score_dataset(dataset_name, model, X, y):\n",
    "    for nFold in range(2, 10+1):\n",
    "        scores = cross_val_score(model, df, y, cv=nFold)\n",
    "        print(\"%s %2d-folds = %.3f\" % (dataset_name, nFold, np.mean(scores)))"
   ]
  },
  {
   "cell_type": "code",
   "execution_count": 5,
   "metadata": {},
   "outputs": [],
   "source": [
    "n_neighbors = 5"
   ]
  },
  {
   "cell_type": "code",
   "execution_count": 6,
   "metadata": {
    "tags": []
   },
   "outputs": [
    {
     "output_type": "stream",
     "name": "stdout",
     "text": "Iris  2-folds = 0.940\nIris  3-folds = 0.980\nIris  4-folds = 0.967\nIris  5-folds = 0.973\nIris  6-folds = 0.967\nIris  7-folds = 0.967\nIris  8-folds = 0.967\nIris  9-folds = 0.967\nIris 10-folds = 0.967\n"
    }
   ],
   "source": [
    "dataset_name = 'Iris'\n",
    "df, y = load_datasets(dataset_name)\n",
    "model = KNeighborsClassifier(n_neighbors=n_neighbors)\n",
    "score_dataset(dataset_name, model, df, y)"
   ]
  },
  {
   "cell_type": "code",
   "execution_count": 7,
   "metadata": {
    "tags": []
   },
   "outputs": [
    {
     "output_type": "stream",
     "name": "stdout",
     "text": "Breast Cancer  2-folds = 0.923\nBreast Cancer  3-folds = 0.923\nBreast Cancer  4-folds = 0.928\nBreast Cancer  5-folds = 0.928\nBreast Cancer  6-folds = 0.924\nBreast Cancer  7-folds = 0.928\nBreast Cancer  8-folds = 0.928\nBreast Cancer  9-folds = 0.926\nBreast Cancer 10-folds = 0.930\n"
    }
   ],
   "source": [
    "dataset_name = 'Breast Cancer'\n",
    "df, y = load_datasets(dataset_name)\n",
    "model = KNeighborsClassifier(n_neighbors=n_neighbors)\n",
    "score_dataset(dataset_name, model, df, y)"
   ]
  },
  {
   "cell_type": "code",
   "execution_count": 8,
   "metadata": {
    "tags": []
   },
   "outputs": [
    {
     "output_type": "stream",
     "name": "stdout",
     "text": "Wine  2-folds = 0.663\nWine  3-folds = 0.663\nWine  4-folds = 0.686\nWine  5-folds = 0.691\nWine  6-folds = 0.691\nWine  7-folds = 0.703\nWine  8-folds = 0.691\nWine  9-folds = 0.692\nWine 10-folds = 0.675\n"
    }
   ],
   "source": [
    "dataset_name = 'Wine'\n",
    "df, y = load_datasets(dataset_name)\n",
    "model = KNeighborsClassifier(n_neighbors=n_neighbors)\n",
    "score_dataset(dataset_name, model, df, y)"
   ]
  },
  {
   "cell_type": "code",
   "execution_count": 9,
   "metadata": {
    "tags": []
   },
   "outputs": [
    {
     "output_type": "stream",
     "name": "stdout",
     "text": "Handwritten Digits  2-folds = 0.953\nHandwritten Digits  3-folds = 0.963\nHandwritten Digits  4-folds = 0.963\nHandwritten Digits  5-folds = 0.963\nHandwritten Digits  6-folds = 0.970\nHandwritten Digits  7-folds = 0.965\nHandwritten Digits  8-folds = 0.967\nHandwritten Digits  9-folds = 0.971\nHandwritten Digits 10-folds = 0.971\n"
    }
   ],
   "source": [
    "dataset_name = 'Handwritten Digits'\n",
    "df, y = load_datasets(dataset_name)\n",
    "model = KNeighborsClassifier(n_neighbors=n_neighbors)\n",
    "score_dataset(dataset_name, model, df, y)"
   ]
  },
  {
   "cell_type": "code",
   "execution_count": null,
   "metadata": {},
   "outputs": [],
   "source": []
  }
 ]
}